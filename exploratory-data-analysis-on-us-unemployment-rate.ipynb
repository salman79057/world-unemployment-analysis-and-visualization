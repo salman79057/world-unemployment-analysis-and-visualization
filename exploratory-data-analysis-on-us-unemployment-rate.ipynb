{
 "cells": [
  {
   "cell_type": "markdown",
   "metadata": {
    "id": "Exfb6PeBJPYk",
    "papermill": {
     "duration": 0.023924,
     "end_time": "2021-04-11T20:55:36.797042",
     "exception": false,
     "start_time": "2021-04-11T20:55:36.773118",
     "status": "completed"
    },
    "tags": []
   },
   "source": [
    "##**Unemployment**\n",
    "Unemployment is a term referring to individuals who are employable and actively seeking a job but are unable to find a job. Included in this group are those people in the workforce who are working but do not have an appropriate job. Usually measured by the unemployment rate, which is dividing the number of unemployed people by the total number of people in the workforce, unemployment serves as one of the indicators of a country’s economic status.[Source](https://https://corporatefinanceinstitute.com/resources/knowledge/economics/unemployment/)"
   ]
  },
  {
   "cell_type": "markdown",
   "metadata": {
    "id": "e43Xaiz9mBlU",
    "papermill": {
     "duration": 0.022614,
     "end_time": "2021-04-11T20:55:36.842490",
     "exception": false,
     "start_time": "2021-04-11T20:55:36.819876",
     "status": "completed"
    },
    "tags": []
   },
   "source": [
    "## **Unemployment in the United States**\n",
    "Unemployment in the United States discusses the causes and measures of U.S. unemployment and strategies for reducing it. Job creation and unemployment are affected by factors such as economic conditions, global competition, education, automation, and demographics. These factors can affect the number of workers, the duration of unemployment, and wage levels. continue reading: [Wikipedia](https://en.wikipedia.org/wiki/Unemployment_in_the_United_States#:~:text=In%20September%202019%2C%20the%20U.S.,pandemic%20in%20the%20United%20States.)"
   ]
  },
  {
   "cell_type": "markdown",
   "metadata": {
    "id": "O9mUifmonE3X",
    "papermill": {
     "duration": 0.022277,
     "end_time": "2021-04-11T20:55:36.888927",
     "exception": false,
     "start_time": "2021-04-11T20:55:36.866650",
     "status": "completed"
    },
    "tags": []
   },
   "source": [
    "# Import neccessary libraries, import data, set options."
   ]
  },
  {
   "cell_type": "code",
   "execution_count": 1,
   "metadata": {
    "execution": {
     "iopub.execute_input": "2021-04-11T20:55:36.941121Z",
     "iopub.status.busy": "2021-04-11T20:55:36.940449Z",
     "iopub.status.idle": "2021-04-11T20:55:36.943406Z",
     "shell.execute_reply": "2021-04-11T20:55:36.942707Z"
    },
    "executionInfo": {
     "elapsed": 2259,
     "status": "ok",
     "timestamp": 1616263899199,
     "user": {
      "displayName": "Oluwawemimo Vivian Folayan",
      "photoUrl": "https://lh3.googleusercontent.com/a-/AOh14GiKaDHWBHXOSHvsJB24UrPK8sfwmq5bms4ykn41=s64",
      "userId": "04898113565154863797"
     },
     "user_tz": -60
    },
    "id": "JF7jxuZgjnGe",
    "papermill": {
     "duration": 0.031132,
     "end_time": "2021-04-11T20:55:36.943710",
     "exception": false,
     "start_time": "2021-04-11T20:55:36.912578",
     "status": "completed"
    },
    "tags": []
   },
   "outputs": [],
   "source": [
    "#!pip install pandas_profiling --upgrade"
   ]
  },
  {
   "cell_type": "code",
   "execution_count": 2,
   "metadata": {
    "execution": {
     "iopub.execute_input": "2021-04-11T20:55:36.997264Z",
     "iopub.status.busy": "2021-04-11T20:55:36.996488Z",
     "iopub.status.idle": "2021-04-11T20:55:37.986069Z",
     "shell.execute_reply": "2021-04-11T20:55:37.985229Z"
    },
    "executionInfo": {
     "elapsed": 2860,
     "status": "ok",
     "timestamp": 1616263899836,
     "user": {
      "displayName": "Oluwawemimo Vivian Folayan",
      "photoUrl": "https://lh3.googleusercontent.com/a-/AOh14GiKaDHWBHXOSHvsJB24UrPK8sfwmq5bms4ykn41=s64",
      "userId": "04898113565154863797"
     },
     "user_tz": -60
    },
    "id": "8SO6cttdhmWe",
    "papermill": {
     "duration": 1.019467,
     "end_time": "2021-04-11T20:55:37.986255",
     "exception": false,
     "start_time": "2021-04-11T20:55:36.966788",
     "status": "completed"
    },
    "tags": []
   },
   "outputs": [],
   "source": [
    "import numpy as np\n",
    "import pandas as pd\n",
    "import matplotlib.pyplot as plt\n",
    "import seaborn as sns\n",
    "#from pandas_profiling import ProfileReport\n",
    "%matplotlib inline\n",
    "plt.style.use(\"ggplot\")"
   ]
  },
  {
   "cell_type": "code",
   "execution_count": 3,
   "metadata": {
    "execution": {
     "iopub.execute_input": "2021-04-11T20:55:38.038446Z",
     "iopub.status.busy": "2021-04-11T20:55:38.037188Z",
     "iopub.status.idle": "2021-04-11T20:55:38.040980Z",
     "shell.execute_reply": "2021-04-11T20:55:38.040146Z"
    },
    "executionInfo": {
     "elapsed": 2839,
     "status": "ok",
     "timestamp": 1616263899842,
     "user": {
      "displayName": "Oluwawemimo Vivian Folayan",
      "photoUrl": "https://lh3.googleusercontent.com/a-/AOh14GiKaDHWBHXOSHvsJB24UrPK8sfwmq5bms4ykn41=s64",
      "userId": "04898113565154863797"
     },
     "user_tz": -60
    },
    "id": "K0e22U4nhzLi",
    "papermill": {
     "duration": 0.031475,
     "end_time": "2021-04-11T20:55:38.041129",
     "exception": false,
     "start_time": "2021-04-11T20:55:38.009654",
     "status": "completed"
    },
    "tags": []
   },
   "outputs": [],
   "source": [
    "#general_report = ProfileReport(data)\n",
    "#general_report"
   ]
  },
  {
   "cell_type": "code",
   "execution_count": 4,
   "metadata": {
    "execution": {
     "iopub.execute_input": "2021-04-11T20:55:38.093778Z",
     "iopub.status.busy": "2021-04-11T20:55:38.093067Z",
     "iopub.status.idle": "2021-04-11T20:55:39.441940Z",
     "shell.execute_reply": "2021-04-11T20:55:39.441270Z"
    },
    "papermill": {
     "duration": 1.376826,
     "end_time": "2021-04-11T20:55:39.442087",
     "exception": false,
     "start_time": "2021-04-11T20:55:38.065261",
     "status": "completed"
    },
    "tags": []
   },
   "outputs": [
    {
     "data": {
      "text/html": [
       "<div>\n",
       "<style scoped>\n",
       "    .dataframe tbody tr th:only-of-type {\n",
       "        vertical-align: middle;\n",
       "    }\n",
       "\n",
       "    .dataframe tbody tr th {\n",
       "        vertical-align: top;\n",
       "    }\n",
       "\n",
       "    .dataframe thead th {\n",
       "        text-align: right;\n",
       "    }\n",
       "</style>\n",
       "<table border=\"1\" class=\"dataframe\">\n",
       "  <thead>\n",
       "    <tr style=\"text-align: right;\">\n",
       "      <th></th>\n",
       "      <th>Year</th>\n",
       "      <th>Month</th>\n",
       "      <th>State</th>\n",
       "      <th>County</th>\n",
       "      <th>Rate</th>\n",
       "    </tr>\n",
       "  </thead>\n",
       "  <tbody>\n",
       "    <tr>\n",
       "      <th>0</th>\n",
       "      <td>2015</td>\n",
       "      <td>February</td>\n",
       "      <td>Mississippi</td>\n",
       "      <td>Newton County</td>\n",
       "      <td>6.1</td>\n",
       "    </tr>\n",
       "    <tr>\n",
       "      <th>1</th>\n",
       "      <td>2015</td>\n",
       "      <td>February</td>\n",
       "      <td>Mississippi</td>\n",
       "      <td>Panola County</td>\n",
       "      <td>9.4</td>\n",
       "    </tr>\n",
       "    <tr>\n",
       "      <th>2</th>\n",
       "      <td>2015</td>\n",
       "      <td>February</td>\n",
       "      <td>Mississippi</td>\n",
       "      <td>Monroe County</td>\n",
       "      <td>7.9</td>\n",
       "    </tr>\n",
       "    <tr>\n",
       "      <th>3</th>\n",
       "      <td>2015</td>\n",
       "      <td>February</td>\n",
       "      <td>Mississippi</td>\n",
       "      <td>Hinds County</td>\n",
       "      <td>6.1</td>\n",
       "    </tr>\n",
       "    <tr>\n",
       "      <th>4</th>\n",
       "      <td>2015</td>\n",
       "      <td>February</td>\n",
       "      <td>Mississippi</td>\n",
       "      <td>Kemper County</td>\n",
       "      <td>10.6</td>\n",
       "    </tr>\n",
       "  </tbody>\n",
       "</table>\n",
       "</div>"
      ],
      "text/plain": [
       "   Year     Month        State         County  Rate\n",
       "0  2015  February  Mississippi  Newton County   6.1\n",
       "1  2015  February  Mississippi  Panola County   9.4\n",
       "2  2015  February  Mississippi  Monroe County   7.9\n",
       "3  2015  February  Mississippi   Hinds County   6.1\n",
       "4  2015  February  Mississippi  Kemper County  10.6"
      ]
     },
     "execution_count": 4,
     "metadata": {},
     "output_type": "execute_result"
    }
   ],
   "source": [
    "data = pd.read_csv('../input/unemployment-by-county-us/output.csv')\n",
    "data.head()"
   ]
  },
  {
   "cell_type": "markdown",
   "metadata": {
    "id": "1iWK-OIlZeEu",
    "papermill": {
     "duration": 0.02355,
     "end_time": "2021-04-11T20:55:39.490185",
     "exception": false,
     "start_time": "2021-04-11T20:55:39.466635",
     "status": "completed"
    },
    "tags": []
   },
   "source": [
    "## Data Exploration"
   ]
  },
  {
   "cell_type": "code",
   "execution_count": 5,
   "metadata": {
    "execution": {
     "iopub.execute_input": "2021-04-11T20:55:39.544458Z",
     "iopub.status.busy": "2021-04-11T20:55:39.543756Z",
     "iopub.status.idle": "2021-04-11T20:55:40.588484Z",
     "shell.execute_reply": "2021-04-11T20:55:40.586954Z"
    },
    "executionInfo": {
     "elapsed": 3160,
     "status": "ok",
     "timestamp": 1616263900399,
     "user": {
      "displayName": "Oluwawemimo Vivian Folayan",
      "photoUrl": "https://lh3.googleusercontent.com/a-/AOh14GiKaDHWBHXOSHvsJB24UrPK8sfwmq5bms4ykn41=s64",
      "userId": "04898113565154863797"
     },
     "user_tz": -60
    },
    "id": "QSX_PvIM_uok",
    "outputId": "e97ca633-ad03-443b-a5ef-f4f8909c54af",
    "papermill": {
     "duration": 1.074244,
     "end_time": "2021-04-11T20:55:40.588697",
     "exception": false,
     "start_time": "2021-04-11T20:55:39.514453",
     "status": "completed"
    },
    "tags": []
   },
   "outputs": [
    {
     "data": {
      "text/html": [
       "<div>\n",
       "<style scoped>\n",
       "    .dataframe tbody tr th:only-of-type {\n",
       "        vertical-align: middle;\n",
       "    }\n",
       "\n",
       "    .dataframe tbody tr th {\n",
       "        vertical-align: top;\n",
       "    }\n",
       "\n",
       "    .dataframe thead th {\n",
       "        text-align: right;\n",
       "    }\n",
       "</style>\n",
       "<table border=\"1\" class=\"dataframe\">\n",
       "  <thead>\n",
       "    <tr style=\"text-align: right;\">\n",
       "      <th></th>\n",
       "      <th>Year</th>\n",
       "      <th>Month</th>\n",
       "      <th>State</th>\n",
       "      <th>County</th>\n",
       "      <th>Rate</th>\n",
       "    </tr>\n",
       "  </thead>\n",
       "  <tbody>\n",
       "    <tr>\n",
       "      <th>count</th>\n",
       "      <td>885548.000000</td>\n",
       "      <td>885548</td>\n",
       "      <td>885548</td>\n",
       "      <td>885548</td>\n",
       "      <td>885548.000000</td>\n",
       "    </tr>\n",
       "    <tr>\n",
       "      <th>unique</th>\n",
       "      <td>NaN</td>\n",
       "      <td>12</td>\n",
       "      <td>47</td>\n",
       "      <td>1752</td>\n",
       "      <td>NaN</td>\n",
       "    </tr>\n",
       "    <tr>\n",
       "      <th>top</th>\n",
       "      <td>NaN</td>\n",
       "      <td>March</td>\n",
       "      <td>Texas</td>\n",
       "      <td>Washington County</td>\n",
       "      <td>NaN</td>\n",
       "    </tr>\n",
       "    <tr>\n",
       "      <th>freq</th>\n",
       "      <td>NaN</td>\n",
       "      <td>74540</td>\n",
       "      <td>57658</td>\n",
       "      <td>8930</td>\n",
       "      <td>NaN</td>\n",
       "    </tr>\n",
       "    <tr>\n",
       "      <th>mean</th>\n",
       "      <td>2003.000017</td>\n",
       "      <td>NaN</td>\n",
       "      <td>NaN</td>\n",
       "      <td>NaN</td>\n",
       "      <td>6.175010</td>\n",
       "    </tr>\n",
       "    <tr>\n",
       "      <th>std</th>\n",
       "      <td>7.824893</td>\n",
       "      <td>NaN</td>\n",
       "      <td>NaN</td>\n",
       "      <td>NaN</td>\n",
       "      <td>3.112535</td>\n",
       "    </tr>\n",
       "    <tr>\n",
       "      <th>min</th>\n",
       "      <td>1990.000000</td>\n",
       "      <td>NaN</td>\n",
       "      <td>NaN</td>\n",
       "      <td>NaN</td>\n",
       "      <td>0.000000</td>\n",
       "    </tr>\n",
       "    <tr>\n",
       "      <th>25%</th>\n",
       "      <td>1996.000000</td>\n",
       "      <td>NaN</td>\n",
       "      <td>NaN</td>\n",
       "      <td>NaN</td>\n",
       "      <td>4.000000</td>\n",
       "    </tr>\n",
       "    <tr>\n",
       "      <th>50%</th>\n",
       "      <td>2003.000000</td>\n",
       "      <td>NaN</td>\n",
       "      <td>NaN</td>\n",
       "      <td>NaN</td>\n",
       "      <td>5.500000</td>\n",
       "    </tr>\n",
       "    <tr>\n",
       "      <th>75%</th>\n",
       "      <td>2010.000000</td>\n",
       "      <td>NaN</td>\n",
       "      <td>NaN</td>\n",
       "      <td>NaN</td>\n",
       "      <td>7.700000</td>\n",
       "    </tr>\n",
       "    <tr>\n",
       "      <th>max</th>\n",
       "      <td>2016.000000</td>\n",
       "      <td>NaN</td>\n",
       "      <td>NaN</td>\n",
       "      <td>NaN</td>\n",
       "      <td>58.400000</td>\n",
       "    </tr>\n",
       "  </tbody>\n",
       "</table>\n",
       "</div>"
      ],
      "text/plain": [
       "                 Year   Month   State             County           Rate\n",
       "count   885548.000000  885548  885548             885548  885548.000000\n",
       "unique            NaN      12      47               1752            NaN\n",
       "top               NaN   March   Texas  Washington County            NaN\n",
       "freq              NaN   74540   57658               8930            NaN\n",
       "mean      2003.000017     NaN     NaN                NaN       6.175010\n",
       "std          7.824893     NaN     NaN                NaN       3.112535\n",
       "min       1990.000000     NaN     NaN                NaN       0.000000\n",
       "25%       1996.000000     NaN     NaN                NaN       4.000000\n",
       "50%       2003.000000     NaN     NaN                NaN       5.500000\n",
       "75%       2010.000000     NaN     NaN                NaN       7.700000\n",
       "max       2016.000000     NaN     NaN                NaN      58.400000"
      ]
     },
     "execution_count": 5,
     "metadata": {},
     "output_type": "execute_result"
    }
   ],
   "source": [
    "data.describe( include=\"all\")"
   ]
  },
  {
   "cell_type": "markdown",
   "metadata": {
    "id": "IrQuWQnC_6AN",
    "papermill": {
     "duration": 0.025714,
     "end_time": "2021-04-11T20:55:40.644422",
     "exception": false,
     "start_time": "2021-04-11T20:55:40.618708",
     "status": "completed"
    },
    "tags": []
   },
   "source": [
    "The description of the dataset\n",
    "\n",
    "*   There are 885548 rows, 5 colums.\n",
    "*   The year column represents the recorded years for the unemployment rate, the minumum year recorded is 1990 and the maximum year is 2016, this indicates the data span across 26years. \n",
    "*   The month columns contains 12 distinct values as expected there are 12months in a year. and march appears to be the most frequent month.\n",
    "*  The State column consists of 47 distinct values, There are 50 states in the US, Hence, three States are not present in the data. Also Texas appears most in the data with 57658 frequency.\n",
    "*   County in US mean an administrative or political subdivision of each state that consists of a geographic region with specific boundaries and usually some level of governmental authority, just like a local govwernment area, US has 3,144 counties, in the column we have 1752 distinct values. hence, not all counties are represented by the data.\n",
    "*   Rate columns is the columns that indicates the unemployment rate in 47 states of the US. there is a min values of 0.00 indicating that there is a preriod in a particular states that records Zero unemployment rate and we have the max values at 58.4 which also indicates the is a peroid in a particular states that records over 50% unemployment rate.\n",
    "\n",
    "*   Lastly, the count columns indicates there are no missing rows in the data, but let cross check.\n",
    "\n",
    "\n",
    "\n",
    "\n",
    "\n",
    "\n",
    "\n",
    "\n",
    "\n",
    "\n",
    "\n",
    "\n",
    "\n",
    "\n"
   ]
  },
  {
   "cell_type": "code",
   "execution_count": 6,
   "metadata": {
    "execution": {
     "iopub.execute_input": "2021-04-11T20:55:40.700950Z",
     "iopub.status.busy": "2021-04-11T20:55:40.699991Z",
     "iopub.status.idle": "2021-04-11T20:55:41.000422Z",
     "shell.execute_reply": "2021-04-11T20:55:40.999443Z"
    },
    "executionInfo": {
     "elapsed": 3794,
     "status": "ok",
     "timestamp": 1616263901074,
     "user": {
      "displayName": "Oluwawemimo Vivian Folayan",
      "photoUrl": "https://lh3.googleusercontent.com/a-/AOh14GiKaDHWBHXOSHvsJB24UrPK8sfwmq5bms4ykn41=s64",
      "userId": "04898113565154863797"
     },
     "user_tz": -60
    },
    "id": "d9vAld4rGf-k",
    "outputId": "f1034085-75fc-475a-e7e0-7cf9358f7b49",
    "papermill": {
     "duration": 0.331532,
     "end_time": "2021-04-11T20:55:41.000685",
     "exception": false,
     "start_time": "2021-04-11T20:55:40.669153",
     "status": "completed"
    },
    "tags": []
   },
   "outputs": [
    {
     "data": {
      "text/plain": [
       "Year      0\n",
       "Month     0\n",
       "State     0\n",
       "County    0\n",
       "Rate      0\n",
       "dtype: int64"
      ]
     },
     "execution_count": 6,
     "metadata": {},
     "output_type": "execute_result"
    }
   ],
   "source": [
    "data.isnull().sum()"
   ]
  },
  {
   "cell_type": "markdown",
   "metadata": {
    "id": "TGfWHtebGor9",
    "papermill": {
     "duration": 0.030251,
     "end_time": "2021-04-11T20:55:41.068400",
     "exception": false,
     "start_time": "2021-04-11T20:55:41.038149",
     "status": "completed"
    },
    "tags": []
   },
   "source": [
    "No null values!"
   ]
  },
  {
   "cell_type": "markdown",
   "metadata": {
    "id": "7kTxmo98Znai",
    "papermill": {
     "duration": 0.025914,
     "end_time": "2021-04-11T20:55:41.121406",
     "exception": false,
     "start_time": "2021-04-11T20:55:41.095492",
     "status": "completed"
    },
    "tags": []
   },
   "source": [
    "# States Analysis"
   ]
  },
  {
   "cell_type": "markdown",
   "metadata": {
    "id": "gI1zm98DGKio",
    "papermill": {
     "duration": 0.025177,
     "end_time": "2021-04-11T20:55:41.172454",
     "exception": false,
     "start_time": "2021-04-11T20:55:41.147277",
     "status": "completed"
    },
    "tags": []
   },
   "source": [
    "lets check for the missing states\n"
   ]
  },
  {
   "cell_type": "code",
   "execution_count": 7,
   "metadata": {
    "execution": {
     "iopub.execute_input": "2021-04-11T20:55:41.280820Z",
     "iopub.status.busy": "2021-04-11T20:55:41.280074Z",
     "iopub.status.idle": "2021-04-11T20:55:41.301916Z",
     "shell.execute_reply": "2021-04-11T20:55:41.301249Z"
    },
    "executionInfo": {
     "elapsed": 3758,
     "status": "ok",
     "timestamp": 1616263901088,
     "user": {
      "displayName": "Oluwawemimo Vivian Folayan",
      "photoUrl": "https://lh3.googleusercontent.com/a-/AOh14GiKaDHWBHXOSHvsJB24UrPK8sfwmq5bms4ykn41=s64",
      "userId": "04898113565154863797"
     },
     "user_tz": -60
    },
    "id": "pZyBQTYFHBPG",
    "outputId": "caffb572-bed6-4992-ff56-41ab3e7358c5",
    "papermill": {
     "duration": 0.103841,
     "end_time": "2021-04-11T20:55:41.302079",
     "exception": false,
     "start_time": "2021-04-11T20:55:41.198238",
     "status": "completed"
    },
    "tags": []
   },
   "outputs": [
    {
     "data": {
      "text/plain": [
       "array(['Mississippi', 'Oklahoma', 'Delaware', 'Minnesota', 'Illinois',\n",
       "       'Arkansas', 'New Mexico', 'Indiana', 'Maryland', 'Louisiana',\n",
       "       'Idaho', 'Wyoming', 'Tennessee', 'Arizona', 'Iowa', 'Kansas',\n",
       "       'Utah', 'Virginia', 'Oregon', 'Connecticut', 'Montana',\n",
       "       'California', 'Massachusetts', 'West Virginia', 'South Carolina',\n",
       "       'New Hampshire', 'Wisconsin', 'Vermont', 'North Dakota',\n",
       "       'Pennsylvania', 'Kentucky', 'Hawaii', 'Nebraska', 'Missouri',\n",
       "       'Ohio', 'Alabama', 'Rhode Island', 'South Dakota', 'Colorado',\n",
       "       'New Jersey', 'Washington', 'North Carolina', 'New York', 'Texas',\n",
       "       'Nevada', 'Maine', 'Michigan'], dtype=object)"
      ]
     },
     "execution_count": 7,
     "metadata": {},
     "output_type": "execute_result"
    }
   ],
   "source": [
    "state_=data.State.unique()\n",
    "state_"
   ]
  },
  {
   "cell_type": "markdown",
   "metadata": {
    "id": "Of5LyxpxHJEV",
    "papermill": {
     "duration": 0.025767,
     "end_time": "2021-04-11T20:55:41.354531",
     "exception": false,
     "start_time": "2021-04-11T20:55:41.328764",
     "status": "completed"
    },
    "tags": []
   },
   "source": [
    "From the data, the missing states are Alaska, Florida and Georgia, although Florida is the 3rd most populous state in US, Alaska has the largest area in the US and Georgia is the 7th most populous state in the US."
   ]
  },
  {
   "cell_type": "code",
   "execution_count": 8,
   "metadata": {
    "execution": {
     "iopub.execute_input": "2021-04-11T20:55:41.413265Z",
     "iopub.status.busy": "2021-04-11T20:55:41.412475Z",
     "iopub.status.idle": "2021-04-11T20:55:43.210028Z",
     "shell.execute_reply": "2021-04-11T20:55:43.209371Z"
    },
    "executionInfo": {
     "elapsed": 4618,
     "status": "ok",
     "timestamp": 1616263901998,
     "user": {
      "displayName": "Oluwawemimo Vivian Folayan",
      "photoUrl": "https://lh3.googleusercontent.com/a-/AOh14GiKaDHWBHXOSHvsJB24UrPK8sfwmq5bms4ykn41=s64",
      "userId": "04898113565154863797"
     },
     "user_tz": -60
    },
    "id": "_-k0qlLgHGTq",
    "outputId": "c655a142-5577-4b7a-d530-91af1f7149ab",
    "papermill": {
     "duration": 1.829676,
     "end_time": "2021-04-11T20:55:43.210186",
     "exception": false,
     "start_time": "2021-04-11T20:55:41.380510",
     "status": "completed"
    },
    "tags": []
   },
   "outputs": [
    {
     "name": "stderr",
     "output_type": "stream",
     "text": [
      "/opt/conda/lib/python3.7/site-packages/seaborn/_decorators.py:43: FutureWarning: Pass the following variable as a keyword arg: x. From version 0.12, the only valid positional argument will be `data`, and passing other arguments without an explicit keyword will result in an error or misinterpretation.\n",
      "  FutureWarning\n"
     ]
    },
    {
     "data": {
      "image/png": "[encoded data removed]",
      "text/plain": [
       "<Figure size 864x432 with 1 Axes>"
      ]
     },
     "metadata": {},
     "output_type": "display_data"
    }
   ],
   "source": [
    "#Countplot on the states\n",
    "plt.figure(figsize=(12,6))\n",
    "g = sns.countplot(data['State'])\n",
    "g.set_xticklabels(g.get_xticklabels(), rotation=90, ha=\"right\")\n",
    "plt.show()"
   ]
  },
  {
   "cell_type": "markdown",
   "metadata": {
    "id": "HXWX3U54KUy_",
    "papermill": {
     "duration": 0.028333,
     "end_time": "2021-04-11T20:55:43.267979",
     "exception": false,
     "start_time": "2021-04-11T20:55:43.239646",
     "status": "completed"
    },
    "tags": []
   },
   "source": [
    "The frequency of Texas is much more than the other states and the lowest frequency is Delaware."
   ]
  },
  {
   "cell_type": "markdown",
   "metadata": {
    "id": "6arCHNaOLKq5",
    "papermill": {
     "duration": 0.028347,
     "end_time": "2021-04-11T20:55:43.324718",
     "exception": false,
     "start_time": "2021-04-11T20:55:43.296371",
     "status": "completed"
    },
    "tags": []
   },
   "source": [
    "Let's check for states and rate"
   ]
  },
  {
   "cell_type": "code",
   "execution_count": 9,
   "metadata": {
    "execution": {
     "iopub.execute_input": "2021-04-11T20:55:43.425536Z",
     "iopub.status.busy": "2021-04-11T20:55:43.402564Z",
     "iopub.status.idle": "2021-04-11T20:55:43.517242Z",
     "shell.execute_reply": "2021-04-11T20:55:43.516679Z"
    },
    "executionInfo": {
     "elapsed": 4574,
     "status": "ok",
     "timestamp": 1616263902005,
     "user": {
      "displayName": "Oluwawemimo Vivian Folayan",
      "photoUrl": "https://lh3.googleusercontent.com/a-/AOh14GiKaDHWBHXOSHvsJB24UrPK8sfwmq5bms4ykn41=s64",
      "userId": "04898113565154863797"
     },
     "user_tz": -60
    },
    "id": "WsVO9Ln4KUfv",
    "outputId": "75cd708b-ac5f-4cf0-d75a-415b436c164b",
    "papermill": {
     "duration": 0.164156,
     "end_time": "2021-04-11T20:55:43.517506",
     "exception": false,
     "start_time": "2021-04-11T20:55:43.353350",
     "status": "completed"
    },
    "tags": []
   },
   "outputs": [
    {
     "data": {
      "text/html": [
       "<div>\n",
       "<style scoped>\n",
       "    .dataframe tbody tr th:only-of-type {\n",
       "        vertical-align: middle;\n",
       "    }\n",
       "\n",
       "    .dataframe tbody tr th {\n",
       "        vertical-align: top;\n",
       "    }\n",
       "\n",
       "    .dataframe thead th {\n",
       "        text-align: right;\n",
       "    }\n",
       "</style>\n",
       "<table border=\"1\" class=\"dataframe\">\n",
       "  <thead>\n",
       "    <tr style=\"text-align: right;\">\n",
       "      <th></th>\n",
       "      <th>State</th>\n",
       "      <th>Rate</th>\n",
       "    </tr>\n",
       "  </thead>\n",
       "  <tbody>\n",
       "    <tr>\n",
       "      <th>1</th>\n",
       "      <td>Arizona</td>\n",
       "      <td>9.274588</td>\n",
       "    </tr>\n",
       "    <tr>\n",
       "      <th>3</th>\n",
       "      <td>California</td>\n",
       "      <td>9.045005</td>\n",
       "    </tr>\n",
       "    <tr>\n",
       "      <th>20</th>\n",
       "      <td>Mississippi</td>\n",
       "      <td>8.320517</td>\n",
       "    </tr>\n",
       "    <tr>\n",
       "      <th>18</th>\n",
       "      <td>Michigan</td>\n",
       "      <td>8.136136</td>\n",
       "    </tr>\n",
       "    <tr>\n",
       "      <th>44</th>\n",
       "      <td>West Virginia</td>\n",
       "      <td>8.104809</td>\n",
       "    </tr>\n",
       "    <tr>\n",
       "      <th>43</th>\n",
       "      <td>Washington</td>\n",
       "      <td>8.031513</td>\n",
       "    </tr>\n",
       "    <tr>\n",
       "      <th>36</th>\n",
       "      <td>South Carolina</td>\n",
       "      <td>7.978737</td>\n",
       "    </tr>\n",
       "    <tr>\n",
       "      <th>33</th>\n",
       "      <td>Oregon</td>\n",
       "      <td>7.849271</td>\n",
       "    </tr>\n",
       "    <tr>\n",
       "      <th>14</th>\n",
       "      <td>Louisiana</td>\n",
       "      <td>7.812949</td>\n",
       "    </tr>\n",
       "    <tr>\n",
       "      <th>0</th>\n",
       "      <td>Alabama</td>\n",
       "      <td>7.723844</td>\n",
       "    </tr>\n",
       "    <tr>\n",
       "      <th>38</th>\n",
       "      <td>Tennessee</td>\n",
       "      <td>7.305776</td>\n",
       "    </tr>\n",
       "    <tr>\n",
       "      <th>13</th>\n",
       "      <td>Kentucky</td>\n",
       "      <td>7.238306</td>\n",
       "    </tr>\n",
       "    <tr>\n",
       "      <th>27</th>\n",
       "      <td>New Mexico</td>\n",
       "      <td>7.083895</td>\n",
       "    </tr>\n",
       "    <tr>\n",
       "      <th>31</th>\n",
       "      <td>Ohio</td>\n",
       "      <td>6.923390</td>\n",
       "    </tr>\n",
       "    <tr>\n",
       "      <th>2</th>\n",
       "      <td>Arkansas</td>\n",
       "      <td>6.782210</td>\n",
       "    </tr>\n",
       "    <tr>\n",
       "      <th>24</th>\n",
       "      <td>Nevada</td>\n",
       "      <td>6.737019</td>\n",
       "    </tr>\n",
       "    <tr>\n",
       "      <th>29</th>\n",
       "      <td>North Carolina</td>\n",
       "      <td>6.708099</td>\n",
       "    </tr>\n",
       "    <tr>\n",
       "      <th>9</th>\n",
       "      <td>Illinois</td>\n",
       "      <td>6.548596</td>\n",
       "    </tr>\n",
       "    <tr>\n",
       "      <th>34</th>\n",
       "      <td>Pennsylvania</td>\n",
       "      <td>6.475843</td>\n",
       "    </tr>\n",
       "    <tr>\n",
       "      <th>26</th>\n",
       "      <td>New Jersey</td>\n",
       "      <td>6.422105</td>\n",
       "    </tr>\n",
       "    <tr>\n",
       "      <th>8</th>\n",
       "      <td>Idaho</td>\n",
       "      <td>6.319992</td>\n",
       "    </tr>\n",
       "    <tr>\n",
       "      <th>35</th>\n",
       "      <td>Rhode Island</td>\n",
       "      <td>6.295802</td>\n",
       "    </tr>\n",
       "    <tr>\n",
       "      <th>15</th>\n",
       "      <td>Maine</td>\n",
       "      <td>6.263985</td>\n",
       "    </tr>\n",
       "    <tr>\n",
       "      <th>21</th>\n",
       "      <td>Missouri</td>\n",
       "      <td>6.258425</td>\n",
       "    </tr>\n",
       "    <tr>\n",
       "      <th>28</th>\n",
       "      <td>New York</td>\n",
       "      <td>6.226225</td>\n",
       "    </tr>\n",
       "    <tr>\n",
       "      <th>10</th>\n",
       "      <td>Indiana</td>\n",
       "      <td>5.922725</td>\n",
       "    </tr>\n",
       "    <tr>\n",
       "      <th>39</th>\n",
       "      <td>Texas</td>\n",
       "      <td>5.894519</td>\n",
       "    </tr>\n",
       "    <tr>\n",
       "      <th>16</th>\n",
       "      <td>Maryland</td>\n",
       "      <td>5.866422</td>\n",
       "    </tr>\n",
       "    <tr>\n",
       "      <th>45</th>\n",
       "      <td>Wisconsin</td>\n",
       "      <td>5.815659</td>\n",
       "    </tr>\n",
       "    <tr>\n",
       "      <th>7</th>\n",
       "      <td>Hawaii</td>\n",
       "      <td>5.730401</td>\n",
       "    </tr>\n",
       "    <tr>\n",
       "      <th>17</th>\n",
       "      <td>Massachusetts</td>\n",
       "      <td>5.673611</td>\n",
       "    </tr>\n",
       "    <tr>\n",
       "      <th>5</th>\n",
       "      <td>Connecticut</td>\n",
       "      <td>5.548534</td>\n",
       "    </tr>\n",
       "    <tr>\n",
       "      <th>40</th>\n",
       "      <td>Utah</td>\n",
       "      <td>5.503076</td>\n",
       "    </tr>\n",
       "    <tr>\n",
       "      <th>42</th>\n",
       "      <td>Virginia</td>\n",
       "      <td>5.450772</td>\n",
       "    </tr>\n",
       "    <tr>\n",
       "      <th>19</th>\n",
       "      <td>Minnesota</td>\n",
       "      <td>5.403750</td>\n",
       "    </tr>\n",
       "    <tr>\n",
       "      <th>4</th>\n",
       "      <td>Colorado</td>\n",
       "      <td>5.358946</td>\n",
       "    </tr>\n",
       "    <tr>\n",
       "      <th>22</th>\n",
       "      <td>Montana</td>\n",
       "      <td>5.305418</td>\n",
       "    </tr>\n",
       "    <tr>\n",
       "      <th>32</th>\n",
       "      <td>Oklahoma</td>\n",
       "      <td>5.228062</td>\n",
       "    </tr>\n",
       "    <tr>\n",
       "      <th>6</th>\n",
       "      <td>Delaware</td>\n",
       "      <td>5.041049</td>\n",
       "    </tr>\n",
       "    <tr>\n",
       "      <th>41</th>\n",
       "      <td>Vermont</td>\n",
       "      <td>4.944356</td>\n",
       "    </tr>\n",
       "    <tr>\n",
       "      <th>46</th>\n",
       "      <td>Wyoming</td>\n",
       "      <td>4.576503</td>\n",
       "    </tr>\n",
       "    <tr>\n",
       "      <th>25</th>\n",
       "      <td>New Hampshire</td>\n",
       "      <td>4.345710</td>\n",
       "    </tr>\n",
       "    <tr>\n",
       "      <th>11</th>\n",
       "      <td>Iowa</td>\n",
       "      <td>4.236744</td>\n",
       "    </tr>\n",
       "    <tr>\n",
       "      <th>12</th>\n",
       "      <td>Kansas</td>\n",
       "      <td>4.178851</td>\n",
       "    </tr>\n",
       "    <tr>\n",
       "      <th>37</th>\n",
       "      <td>South Dakota</td>\n",
       "      <td>4.097629</td>\n",
       "    </tr>\n",
       "    <tr>\n",
       "      <th>30</th>\n",
       "      <td>North Dakota</td>\n",
       "      <td>3.848084</td>\n",
       "    </tr>\n",
       "    <tr>\n",
       "      <th>23</th>\n",
       "      <td>Nebraska</td>\n",
       "      <td>3.109903</td>\n",
       "    </tr>\n",
       "  </tbody>\n",
       "</table>\n",
       "</div>"
      ],
      "text/plain": [
       "             State      Rate\n",
       "1          Arizona  9.274588\n",
       "3       California  9.045005\n",
       "20     Mississippi  8.320517\n",
       "18        Michigan  8.136136\n",
       "44   West Virginia  8.104809\n",
       "43      Washington  8.031513\n",
       "36  South Carolina  7.978737\n",
       "33          Oregon  7.849271\n",
       "14       Louisiana  7.812949\n",
       "0          Alabama  7.723844\n",
       "38       Tennessee  7.305776\n",
       "13        Kentucky  7.238306\n",
       "27      New Mexico  7.083895\n",
       "31            Ohio  6.923390\n",
       "2         Arkansas  6.782210\n",
       "24          Nevada  6.737019\n",
       "29  North Carolina  6.708099\n",
       "9         Illinois  6.548596\n",
       "34    Pennsylvania  6.475843\n",
       "26      New Jersey  6.422105\n",
       "8            Idaho  6.319992\n",
       "35    Rhode Island  6.295802\n",
       "15           Maine  6.263985\n",
       "21        Missouri  6.258425\n",
       "28        New York  6.226225\n",
       "10         Indiana  5.922725\n",
       "39           Texas  5.894519\n",
       "16        Maryland  5.866422\n",
       "45       Wisconsin  5.815659\n",
       "7           Hawaii  5.730401\n",
       "17   Massachusetts  5.673611\n",
       "5      Connecticut  5.548534\n",
       "40            Utah  5.503076\n",
       "42        Virginia  5.450772\n",
       "19       Minnesota  5.403750\n",
       "4         Colorado  5.358946\n",
       "22         Montana  5.305418\n",
       "32        Oklahoma  5.228062\n",
       "6         Delaware  5.041049\n",
       "41         Vermont  4.944356\n",
       "46         Wyoming  4.576503\n",
       "25   New Hampshire  4.345710\n",
       "11            Iowa  4.236744\n",
       "12          Kansas  4.178851\n",
       "37    South Dakota  4.097629\n",
       "30    North Dakota  3.848084\n",
       "23        Nebraska  3.109903"
      ]
     },
     "execution_count": 9,
     "metadata": {},
     "output_type": "execute_result"
    }
   ],
   "source": [
    "#average unemployment rate per states\n",
    "state_rate=data[['State', 'Rate']]\n",
    "state_rate_= state_rate.groupby(['State'],as_index=False).mean()\n",
    "state_rate_=state_rate_.sort_values(['Rate'], ascending=False)\n",
    "state_rate_"
   ]
  },
  {
   "cell_type": "code",
   "execution_count": 10,
   "metadata": {
    "execution": {
     "iopub.execute_input": "2021-04-11T20:55:43.598423Z",
     "iopub.status.busy": "2021-04-11T20:55:43.597331Z",
     "iopub.status.idle": "2021-04-11T20:55:44.318166Z",
     "shell.execute_reply": "2021-04-11T20:55:44.318693Z"
    },
    "executionInfo": {
     "elapsed": 5512,
     "status": "ok",
     "timestamp": 1616263902993,
     "user": {
      "displayName": "Oluwawemimo Vivian Folayan",
      "photoUrl": "https://lh3.googleusercontent.com/a-/AOh14GiKaDHWBHXOSHvsJB24UrPK8sfwmq5bms4ykn41=s64",
      "userId": "04898113565154863797"
     },
     "user_tz": -60
    },
    "id": "l6jIlOKeOQu4",
    "outputId": "b93360a8-6bd5-46d6-f578-c020478e79da",
    "papermill": {
     "duration": 0.772833,
     "end_time": "2021-04-11T20:55:44.318867",
     "exception": false,
     "start_time": "2021-04-11T20:55:43.546034",
     "status": "completed"
    },
    "tags": []
   },
   "outputs": [
    {
     "data": {
      "image/png": "[encoded data removed]",
      "text/plain": [
       "<Figure size 1008x432 with 1 Axes>"
      ]
     },
     "metadata": {},
     "output_type": "display_data"
    }
   ],
   "source": [
    "fig, ax = plt.subplots(figsize=(14,6))\n",
    "sns.barplot(x='State', y='Rate', data=state_rate_, ax=ax)\n",
    "plt.title('The Average Rate Per states')\n",
    "plt.xticks(rotation='vertical')\n",
    "plt.show()"
   ]
  },
  {
   "cell_type": "markdown",
   "metadata": {
    "id": "oEGr_Sz9PpBk",
    "papermill": {
     "duration": 0.029828,
     "end_time": "2021-04-11T20:55:44.378883",
     "exception": false,
     "start_time": "2021-04-11T20:55:44.349055",
     "status": "completed"
    },
    "tags": []
   },
   "source": [
    "Some of the Top states with high unemployment rate here are rank on top 15 lists of the poorest states in US. [source](https://safety.com/the-poorest-states-in-america)\n"
   ]
  },
  {
   "cell_type": "code",
   "execution_count": 11,
   "metadata": {
    "execution": {
     "iopub.execute_input": "2021-04-11T20:55:44.448582Z",
     "iopub.status.busy": "2021-04-11T20:55:44.447881Z",
     "iopub.status.idle": "2021-04-11T20:55:44.463885Z",
     "shell.execute_reply": "2021-04-11T20:55:44.463267Z"
    },
    "executionInfo": {
     "elapsed": 5471,
     "status": "ok",
     "timestamp": 1616263903002,
     "user": {
      "displayName": "Oluwawemimo Vivian Folayan",
      "photoUrl": "https://lh3.googleusercontent.com/a-/AOh14GiKaDHWBHXOSHvsJB24UrPK8sfwmq5bms4ykn41=s64",
      "userId": "04898113565154863797"
     },
     "user_tz": -60
    },
    "id": "bKTfUc3hL4EN",
    "outputId": "12db1320-0486-4924-cdd1-af587397729b",
    "papermill": {
     "duration": 0.055358,
     "end_time": "2021-04-11T20:55:44.464037",
     "exception": false,
     "start_time": "2021-04-11T20:55:44.408679",
     "status": "completed"
    },
    "tags": []
   },
   "outputs": [
    {
     "data": {
      "text/html": [
       "<div>\n",
       "<style scoped>\n",
       "    .dataframe tbody tr th:only-of-type {\n",
       "        vertical-align: middle;\n",
       "    }\n",
       "\n",
       "    .dataframe tbody tr th {\n",
       "        vertical-align: top;\n",
       "    }\n",
       "\n",
       "    .dataframe thead th {\n",
       "        text-align: right;\n",
       "    }\n",
       "</style>\n",
       "<table border=\"1\" class=\"dataframe\">\n",
       "  <thead>\n",
       "    <tr style=\"text-align: right;\">\n",
       "      <th></th>\n",
       "      <th>Year</th>\n",
       "      <th>Month</th>\n",
       "      <th>State</th>\n",
       "      <th>County</th>\n",
       "      <th>Rate</th>\n",
       "    </tr>\n",
       "  </thead>\n",
       "  <tbody>\n",
       "    <tr>\n",
       "      <th>240742</th>\n",
       "      <td>1991</td>\n",
       "      <td>February</td>\n",
       "      <td>Texas</td>\n",
       "      <td>Starr County</td>\n",
       "      <td>54.0</td>\n",
       "    </tr>\n",
       "    <tr>\n",
       "      <th>246078</th>\n",
       "      <td>1991</td>\n",
       "      <td>March</td>\n",
       "      <td>Texas</td>\n",
       "      <td>Starr County</td>\n",
       "      <td>51.3</td>\n",
       "    </tr>\n",
       "    <tr>\n",
       "      <th>254113</th>\n",
       "      <td>1991</td>\n",
       "      <td>January</td>\n",
       "      <td>Texas</td>\n",
       "      <td>Starr County</td>\n",
       "      <td>53.0</td>\n",
       "    </tr>\n",
       "    <tr>\n",
       "      <th>286921</th>\n",
       "      <td>1990</td>\n",
       "      <td>January</td>\n",
       "      <td>Texas</td>\n",
       "      <td>Starr County</td>\n",
       "      <td>52.6</td>\n",
       "    </tr>\n",
       "    <tr>\n",
       "      <th>337760</th>\n",
       "      <td>1992</td>\n",
       "      <td>February</td>\n",
       "      <td>Colorado</td>\n",
       "      <td>San Juan County</td>\n",
       "      <td>56.5</td>\n",
       "    </tr>\n",
       "    <tr>\n",
       "      <th>342958</th>\n",
       "      <td>1992</td>\n",
       "      <td>March</td>\n",
       "      <td>Colorado</td>\n",
       "      <td>San Juan County</td>\n",
       "      <td>54.9</td>\n",
       "    </tr>\n",
       "    <tr>\n",
       "      <th>351231</th>\n",
       "      <td>1992</td>\n",
       "      <td>January</td>\n",
       "      <td>Colorado</td>\n",
       "      <td>San Juan County</td>\n",
       "      <td>58.4</td>\n",
       "    </tr>\n",
       "    <tr>\n",
       "      <th>359186</th>\n",
       "      <td>1992</td>\n",
       "      <td>April</td>\n",
       "      <td>Colorado</td>\n",
       "      <td>San Juan County</td>\n",
       "      <td>53.3</td>\n",
       "    </tr>\n",
       "  </tbody>\n",
       "</table>\n",
       "</div>"
      ],
      "text/plain": [
       "        Year     Month     State           County  Rate\n",
       "240742  1991  February     Texas     Starr County  54.0\n",
       "246078  1991     March     Texas     Starr County  51.3\n",
       "254113  1991   January     Texas     Starr County  53.0\n",
       "286921  1990   January     Texas     Starr County  52.6\n",
       "337760  1992  February  Colorado  San Juan County  56.5\n",
       "342958  1992     March  Colorado  San Juan County  54.9\n",
       "351231  1992   January  Colorado  San Juan County  58.4\n",
       "359186  1992     April  Colorado  San Juan County  53.3"
      ]
     },
     "execution_count": 11,
     "metadata": {},
     "output_type": "execute_result"
    }
   ],
   "source": [
    "max_data=pd.DataFrame(data, columns=['Year', 'Month','State','County', 'Rate'])\n",
    "max_rate=max_data[max_data['Rate']>50]\n",
    "max_rate"
   ]
  },
  {
   "cell_type": "markdown",
   "metadata": {
    "id": "Sxv8C3ygU8H0",
    "papermill": {
     "duration": 0.030745,
     "end_time": "2021-04-11T20:55:44.528151",
     "exception": false,
     "start_time": "2021-04-11T20:55:44.497406",
     "status": "completed"
    },
    "tags": []
   },
   "source": [
    " \n",
    "*   The states with high unemployment rates are Texas and Colarodo between 1990-1991, 1992 respectively.\n",
    "*  San Juan County in Colorado experienced the higest unemployment rate(58.4) in January, 1992.\n",
    "\n",
    "\n"
   ]
  },
  {
   "cell_type": "code",
   "execution_count": null,
   "metadata": {
    "executionInfo": {
     "elapsed": 5457,
     "status": "ok",
     "timestamp": 1616263903010,
     "user": {
      "displayName": "Oluwawemimo Vivian Folayan",
      "photoUrl": "https://lh3.googleusercontent.com/a-/AOh14GiKaDHWBHXOSHvsJB24UrPK8sfwmq5bms4ykn41=s64",
      "userId": "04898113565154863797"
     },
     "user_tz": -60
    },
    "id": "u-kdhmSmU4CN",
    "papermill": {
     "duration": 0.030526,
     "end_time": "2021-04-11T20:55:44.590074",
     "exception": false,
     "start_time": "2021-04-11T20:55:44.559548",
     "status": "completed"
    },
    "tags": []
   },
   "outputs": [],
   "source": []
  },
  {
   "cell_type": "code",
   "execution_count": 12,
   "metadata": {
    "execution": {
     "iopub.execute_input": "2021-04-11T20:55:44.662067Z",
     "iopub.status.busy": "2021-04-11T20:55:44.661278Z",
     "iopub.status.idle": "2021-04-11T20:55:44.678637Z",
     "shell.execute_reply": "2021-04-11T20:55:44.678001Z"
    },
    "executionInfo": {
     "elapsed": 5428,
     "status": "ok",
     "timestamp": 1616263903025,
     "user": {
      "displayName": "Oluwawemimo Vivian Folayan",
      "photoUrl": "https://lh3.googleusercontent.com/a-/AOh14GiKaDHWBHXOSHvsJB24UrPK8sfwmq5bms4ykn41=s64",
      "userId": "04898113565154863797"
     },
     "user_tz": -60
    },
    "id": "vmwZig39Uk50",
    "outputId": "62291ed2-0beb-417c-8520-7278c24bc216",
    "papermill": {
     "duration": 0.057875,
     "end_time": "2021-04-11T20:55:44.678779",
     "exception": false,
     "start_time": "2021-04-11T20:55:44.620904",
     "status": "completed"
    },
    "tags": []
   },
   "outputs": [
    {
     "data": {
      "text/html": [
       "<div>\n",
       "<style scoped>\n",
       "    .dataframe tbody tr th:only-of-type {\n",
       "        vertical-align: middle;\n",
       "    }\n",
       "\n",
       "    .dataframe tbody tr th {\n",
       "        vertical-align: top;\n",
       "    }\n",
       "\n",
       "    .dataframe thead th {\n",
       "        text-align: right;\n",
       "    }\n",
       "</style>\n",
       "<table border=\"1\" class=\"dataframe\">\n",
       "  <thead>\n",
       "    <tr style=\"text-align: right;\">\n",
       "      <th></th>\n",
       "      <th>Year</th>\n",
       "      <th>Month</th>\n",
       "      <th>State</th>\n",
       "      <th>County</th>\n",
       "      <th>Rate</th>\n",
       "    </tr>\n",
       "  </thead>\n",
       "  <tbody>\n",
       "    <tr>\n",
       "      <th>240571</th>\n",
       "      <td>1991</td>\n",
       "      <td>February</td>\n",
       "      <td>Texas</td>\n",
       "      <td>Loving County</td>\n",
       "      <td>0.0</td>\n",
       "    </tr>\n",
       "    <tr>\n",
       "      <th>245907</th>\n",
       "      <td>1991</td>\n",
       "      <td>March</td>\n",
       "      <td>Texas</td>\n",
       "      <td>Loving County</td>\n",
       "      <td>0.0</td>\n",
       "    </tr>\n",
       "    <tr>\n",
       "      <th>253942</th>\n",
       "      <td>1991</td>\n",
       "      <td>January</td>\n",
       "      <td>Texas</td>\n",
       "      <td>Loving County</td>\n",
       "      <td>0.0</td>\n",
       "    </tr>\n",
       "    <tr>\n",
       "      <th>261909</th>\n",
       "      <td>1991</td>\n",
       "      <td>April</td>\n",
       "      <td>Texas</td>\n",
       "      <td>Loving County</td>\n",
       "      <td>0.0</td>\n",
       "    </tr>\n",
       "    <tr>\n",
       "      <th>264736</th>\n",
       "      <td>1991</td>\n",
       "      <td>December</td>\n",
       "      <td>Texas</td>\n",
       "      <td>Loving County</td>\n",
       "      <td>0.0</td>\n",
       "    </tr>\n",
       "    <tr>\n",
       "      <th>270072</th>\n",
       "      <td>1991</td>\n",
       "      <td>November</td>\n",
       "      <td>Texas</td>\n",
       "      <td>Loving County</td>\n",
       "      <td>0.0</td>\n",
       "    </tr>\n",
       "    <tr>\n",
       "      <th>275416</th>\n",
       "      <td>1990</td>\n",
       "      <td>October</td>\n",
       "      <td>Texas</td>\n",
       "      <td>McMullen County</td>\n",
       "      <td>0.0</td>\n",
       "    </tr>\n",
       "    <tr>\n",
       "      <th>281122</th>\n",
       "      <td>1990</td>\n",
       "      <td>August</td>\n",
       "      <td>Texas</td>\n",
       "      <td>McMullen County</td>\n",
       "      <td>0.0</td>\n",
       "    </tr>\n",
       "    <tr>\n",
       "      <th>283943</th>\n",
       "      <td>1990</td>\n",
       "      <td>May</td>\n",
       "      <td>Texas</td>\n",
       "      <td>McMullen County</td>\n",
       "      <td>0.0</td>\n",
       "    </tr>\n",
       "    <tr>\n",
       "      <th>292152</th>\n",
       "      <td>1990</td>\n",
       "      <td>September</td>\n",
       "      <td>Texas</td>\n",
       "      <td>McMullen County</td>\n",
       "      <td>0.0</td>\n",
       "    </tr>\n",
       "    <tr>\n",
       "      <th>297526</th>\n",
       "      <td>1990</td>\n",
       "      <td>December</td>\n",
       "      <td>Texas</td>\n",
       "      <td>Loving County</td>\n",
       "      <td>0.0</td>\n",
       "    </tr>\n",
       "    <tr>\n",
       "      <th>316395</th>\n",
       "      <td>1993</td>\n",
       "      <td>May</td>\n",
       "      <td>Texas</td>\n",
       "      <td>Loving County</td>\n",
       "      <td>0.0</td>\n",
       "    </tr>\n",
       "    <tr>\n",
       "      <th>319216</th>\n",
       "      <td>1993</td>\n",
       "      <td>January</td>\n",
       "      <td>Texas</td>\n",
       "      <td>Loving County</td>\n",
       "      <td>0.0</td>\n",
       "    </tr>\n",
       "    <tr>\n",
       "      <th>324668</th>\n",
       "      <td>1993</td>\n",
       "      <td>September</td>\n",
       "      <td>Texas</td>\n",
       "      <td>Loving County</td>\n",
       "      <td>0.0</td>\n",
       "    </tr>\n",
       "    <tr>\n",
       "      <th>332623</th>\n",
       "      <td>1993</td>\n",
       "      <td>July</td>\n",
       "      <td>Texas</td>\n",
       "      <td>Loving County</td>\n",
       "      <td>0.0</td>\n",
       "    </tr>\n",
       "    <tr>\n",
       "      <th>343209</th>\n",
       "      <td>1992</td>\n",
       "      <td>March</td>\n",
       "      <td>Texas</td>\n",
       "      <td>Loving County</td>\n",
       "      <td>0.0</td>\n",
       "    </tr>\n",
       "    <tr>\n",
       "      <th>359437</th>\n",
       "      <td>1992</td>\n",
       "      <td>April</td>\n",
       "      <td>Texas</td>\n",
       "      <td>Loving County</td>\n",
       "      <td>0.0</td>\n",
       "    </tr>\n",
       "  </tbody>\n",
       "</table>\n",
       "</div>"
      ],
      "text/plain": [
       "        Year      Month  State           County  Rate\n",
       "240571  1991   February  Texas    Loving County   0.0\n",
       "245907  1991      March  Texas    Loving County   0.0\n",
       "253942  1991    January  Texas    Loving County   0.0\n",
       "261909  1991      April  Texas    Loving County   0.0\n",
       "264736  1991   December  Texas    Loving County   0.0\n",
       "270072  1991   November  Texas    Loving County   0.0\n",
       "275416  1990    October  Texas  McMullen County   0.0\n",
       "281122  1990     August  Texas  McMullen County   0.0\n",
       "283943  1990        May  Texas  McMullen County   0.0\n",
       "292152  1990  September  Texas  McMullen County   0.0\n",
       "297526  1990   December  Texas    Loving County   0.0\n",
       "316395  1993        May  Texas    Loving County   0.0\n",
       "319216  1993    January  Texas    Loving County   0.0\n",
       "324668  1993  September  Texas    Loving County   0.0\n",
       "332623  1993       July  Texas    Loving County   0.0\n",
       "343209  1992      March  Texas    Loving County   0.0\n",
       "359437  1992      April  Texas    Loving County   0.0"
      ]
     },
     "execution_count": 12,
     "metadata": {},
     "output_type": "execute_result"
    }
   ],
   "source": [
    "min_data=pd.DataFrame(data, columns=['Year', 'Month','State','County', 'Rate'])\n",
    "min_rate=max_data[min_data['Rate']<0.1]\n",
    "min_rate"
   ]
  },
  {
   "cell_type": "markdown",
   "metadata": {
    "id": "8uJxXkmMV4DU",
    "papermill": {
     "duration": 0.031243,
     "end_time": "2021-04-11T20:55:44.742357",
     "exception": false,
     "start_time": "2021-04-11T20:55:44.711114",
     "status": "completed"
    },
    "tags": []
   },
   "source": [
    "The state with zero unemployment rates is Texas between 1990-1993"
   ]
  },
  {
   "cell_type": "markdown",
   "metadata": {
    "id": "l7ZjhNlvWJ-l",
    "papermill": {
     "duration": 0.031092,
     "end_time": "2021-04-11T20:55:44.805151",
     "exception": false,
     "start_time": "2021-04-11T20:55:44.774059",
     "status": "completed"
    },
    "tags": []
   },
   "source": [
    "Interestingly, in Texas, between 1990-1991, Starr County experienced high unemployment rate and Loving County and McMullen County experienced Zero umemployment rate. same state different districts. Note, The US was just recoverng from the Early 1990 recession which lasted eight months from July 1990 to March 1991."
   ]
  },
  {
   "cell_type": "markdown",
   "metadata": {
    "id": "QeW081MrZ9Jr",
    "papermill": {
     "duration": 0.032169,
     "end_time": "2021-04-11T20:55:44.868751",
     "exception": false,
     "start_time": "2021-04-11T20:55:44.836582",
     "status": "completed"
    },
    "tags": []
   },
   "source": [
    "# Rate Column Analysis"
   ]
  },
  {
   "cell_type": "code",
   "execution_count": 13,
   "metadata": {
    "execution": {
     "iopub.execute_input": "2021-04-11T20:55:44.940234Z",
     "iopub.status.busy": "2021-04-11T20:55:44.939600Z",
     "iopub.status.idle": "2021-04-11T20:55:48.997731Z",
     "shell.execute_reply": "2021-04-11T20:55:48.997102Z"
    },
    "executionInfo": {
     "elapsed": 11222,
     "status": "ok",
     "timestamp": 1616263908867,
     "user": {
      "displayName": "Oluwawemimo Vivian Folayan",
      "photoUrl": "https://lh3.googleusercontent.com/a-/AOh14GiKaDHWBHXOSHvsJB24UrPK8sfwmq5bms4ykn41=s64",
      "userId": "04898113565154863797"
     },
     "user_tz": -60
    },
    "id": "nFo9boMBHIIQ",
    "outputId": "6dc9f2db-c97a-43b6-d30e-e1523b9d9c38",
    "papermill": {
     "duration": 4.096491,
     "end_time": "2021-04-11T20:55:48.997885",
     "exception": false,
     "start_time": "2021-04-11T20:55:44.901394",
     "status": "completed"
    },
    "tags": []
   },
   "outputs": [
    {
     "name": "stderr",
     "output_type": "stream",
     "text": [
      "/opt/conda/lib/python3.7/site-packages/seaborn/distributions.py:2557: FutureWarning: `distplot` is a deprecated function and will be removed in a future version. Please adapt your code to use either `displot` (a figure-level function with similar flexibility) or `histplot` (an axes-level function for histograms).\n",
      "  warnings.warn(msg, FutureWarning)\n"
     ]
    },
    {
     "data": {
      "image/png": "[encoded data removed]",
      "text/plain": [
       "<Figure size 864x360 with 1 Axes>"
      ]
     },
     "metadata": {},
     "output_type": "display_data"
    }
   ],
   "source": [
    "plt.figure(figsize=(12,5))\n",
    "sns.distplot(data['Rate'])\n",
    "plt.show()"
   ]
  },
  {
   "cell_type": "markdown",
   "metadata": {
    "id": "lPbYsuDjNqYx",
    "papermill": {
     "duration": 0.032855,
     "end_time": "2021-04-11T20:55:49.064910",
     "exception": false,
     "start_time": "2021-04-11T20:55:49.032055",
     "status": "completed"
    },
    "tags": []
   },
   "source": [
    "The rate column is positively skewed. that is, positive skewness means when the tail on the right side of the distribution is longer or fatter. The mean and median will be greater than the mode\n",
    "\n",
    "---\n",
    "\n",
    "---\n",
    "\n",
    "\n",
    "\n",
    "\n",
    " *Skewness is the degree of distortion from the symmetrical bell curve or the normal distribution. It measures the lack of symmetry in data distribution. A symmetrical distribution will have a skewness of 0.*"
   ]
  },
  {
   "cell_type": "code",
   "execution_count": 14,
   "metadata": {
    "execution": {
     "iopub.execute_input": "2021-04-11T20:55:49.138929Z",
     "iopub.status.busy": "2021-04-11T20:55:49.137888Z",
     "iopub.status.idle": "2021-04-11T20:55:49.173751Z",
     "shell.execute_reply": "2021-04-11T20:55:49.173186Z"
    },
    "executionInfo": {
     "elapsed": 11187,
     "status": "ok",
     "timestamp": 1616263908875,
     "user": {
      "displayName": "Oluwawemimo Vivian Folayan",
      "photoUrl": "https://lh3.googleusercontent.com/a-/AOh14GiKaDHWBHXOSHvsJB24UrPK8sfwmq5bms4ykn41=s64",
      "userId": "04898113565154863797"
     },
     "user_tz": -60
    },
    "id": "lGsFYI59SGUR",
    "outputId": "803095d3-1b3f-4cb0-ed42-07415b82f5bb",
    "papermill": {
     "duration": 0.075076,
     "end_time": "2021-04-11T20:55:49.174012",
     "exception": false,
     "start_time": "2021-04-11T20:55:49.098936",
     "status": "completed"
    },
    "tags": []
   },
   "outputs": [
    {
     "name": "stdout",
     "output_type": "stream",
     "text": [
      "MODE: 0    4.5\n",
      "dtype: float64\n",
      "----------\n",
      "median: 5.5\n",
      "----------\n",
      "mean: 6.175009711500733\n"
     ]
    },
    {
     "data": {
      "text/plain": [
       "(None,)"
      ]
     },
     "execution_count": 14,
     "metadata": {},
     "output_type": "execute_result"
    }
   ],
   "source": [
    "print(f'MODE:', data.Rate.mode()),\n",
    "print('-'*10)\n",
    "print(f'median:', data.Rate.median()),\n",
    "print('-'*10)\n",
    "print(f'mean:', data.Rate.mean()),\n",
    "#data.Rate.()"
   ]
  },
  {
   "cell_type": "markdown",
   "metadata": {
    "id": "_VteTCfITjF6",
    "papermill": {
     "duration": 0.033541,
     "end_time": "2021-04-11T20:55:49.242048",
     "exception": false,
     "start_time": "2021-04-11T20:55:49.208507",
     "status": "completed"
    },
    "tags": []
   },
   "source": [
    "Just confirmed the Rate is positively skewed. the mean and the median is greater than the mode."
   ]
  },
  {
   "cell_type": "markdown",
   "metadata": {
    "id": "lO-gzAE7m_37",
    "papermill": {
     "duration": 0.033147,
     "end_time": "2021-04-11T20:55:49.308985",
     "exception": false,
     "start_time": "2021-04-11T20:55:49.275838",
     "status": "completed"
    },
    "tags": []
   },
   "source": [
    "# Data Exploration by year\n"
   ]
  },
  {
   "cell_type": "code",
   "execution_count": 15,
   "metadata": {
    "execution": {
     "iopub.execute_input": "2021-04-11T20:55:49.399543Z",
     "iopub.status.busy": "2021-04-11T20:55:49.398127Z",
     "iopub.status.idle": "2021-04-11T20:55:49.429825Z",
     "shell.execute_reply": "2021-04-11T20:55:49.429150Z"
    },
    "executionInfo": {
     "elapsed": 11152,
     "status": "ok",
     "timestamp": 1616263908886,
     "user": {
      "displayName": "Oluwawemimo Vivian Folayan",
      "photoUrl": "https://lh3.googleusercontent.com/a-/AOh14GiKaDHWBHXOSHvsJB24UrPK8sfwmq5bms4ykn41=s64",
      "userId": "04898113565154863797"
     },
     "user_tz": -60
    },
    "id": "2HsNA3JnjTLv",
    "outputId": "743c6310-1186-4ec6-bfb3-578af89ca569",
    "papermill": {
     "duration": 0.086285,
     "end_time": "2021-04-11T20:55:49.429970",
     "exception": false,
     "start_time": "2021-04-11T20:55:49.343685",
     "status": "completed"
    },
    "tags": []
   },
   "outputs": [
    {
     "data": {
      "text/html": [
       "<div>\n",
       "<style scoped>\n",
       "    .dataframe tbody tr th:only-of-type {\n",
       "        vertical-align: middle;\n",
       "    }\n",
       "\n",
       "    .dataframe tbody tr th {\n",
       "        vertical-align: top;\n",
       "    }\n",
       "\n",
       "    .dataframe thead th {\n",
       "        text-align: right;\n",
       "    }\n",
       "</style>\n",
       "<table border=\"1\" class=\"dataframe\">\n",
       "  <thead>\n",
       "    <tr style=\"text-align: right;\">\n",
       "      <th></th>\n",
       "      <th>Year</th>\n",
       "      <th>Rate</th>\n",
       "    </tr>\n",
       "  </thead>\n",
       "  <tbody>\n",
       "    <tr>\n",
       "      <th>26</th>\n",
       "      <td>2016</td>\n",
       "      <td>5.160680</td>\n",
       "    </tr>\n",
       "    <tr>\n",
       "      <th>25</th>\n",
       "      <td>2015</td>\n",
       "      <td>5.401873</td>\n",
       "    </tr>\n",
       "    <tr>\n",
       "      <th>24</th>\n",
       "      <td>2014</td>\n",
       "      <td>6.096365</td>\n",
       "    </tr>\n",
       "    <tr>\n",
       "      <th>23</th>\n",
       "      <td>2013</td>\n",
       "      <td>7.211610</td>\n",
       "    </tr>\n",
       "    <tr>\n",
       "      <th>22</th>\n",
       "      <td>2012</td>\n",
       "      <td>7.657544</td>\n",
       "    </tr>\n",
       "    <tr>\n",
       "      <th>21</th>\n",
       "      <td>2011</td>\n",
       "      <td>8.523477</td>\n",
       "    </tr>\n",
       "    <tr>\n",
       "      <th>20</th>\n",
       "      <td>2010</td>\n",
       "      <td>9.189580</td>\n",
       "    </tr>\n",
       "    <tr>\n",
       "      <th>19</th>\n",
       "      <td>2009</td>\n",
       "      <td>8.883838</td>\n",
       "    </tr>\n",
       "    <tr>\n",
       "      <th>18</th>\n",
       "      <td>2008</td>\n",
       "      <td>5.759990</td>\n",
       "    </tr>\n",
       "    <tr>\n",
       "      <th>17</th>\n",
       "      <td>2007</td>\n",
       "      <td>4.896069</td>\n",
       "    </tr>\n",
       "    <tr>\n",
       "      <th>16</th>\n",
       "      <td>2006</td>\n",
       "      <td>4.979263</td>\n",
       "    </tr>\n",
       "    <tr>\n",
       "      <th>15</th>\n",
       "      <td>2005</td>\n",
       "      <td>5.438981</td>\n",
       "    </tr>\n",
       "    <tr>\n",
       "      <th>14</th>\n",
       "      <td>2004</td>\n",
       "      <td>5.695817</td>\n",
       "    </tr>\n",
       "    <tr>\n",
       "      <th>13</th>\n",
       "      <td>2003</td>\n",
       "      <td>6.027990</td>\n",
       "    </tr>\n",
       "    <tr>\n",
       "      <th>12</th>\n",
       "      <td>2002</td>\n",
       "      <td>5.720915</td>\n",
       "    </tr>\n",
       "    <tr>\n",
       "      <th>11</th>\n",
       "      <td>2001</td>\n",
       "      <td>4.985591</td>\n",
       "    </tr>\n",
       "    <tr>\n",
       "      <th>10</th>\n",
       "      <td>2000</td>\n",
       "      <td>4.321123</td>\n",
       "    </tr>\n",
       "    <tr>\n",
       "      <th>9</th>\n",
       "      <td>1999</td>\n",
       "      <td>4.873476</td>\n",
       "    </tr>\n",
       "    <tr>\n",
       "      <th>8</th>\n",
       "      <td>1998</td>\n",
       "      <td>5.114221</td>\n",
       "    </tr>\n",
       "    <tr>\n",
       "      <th>7</th>\n",
       "      <td>1997</td>\n",
       "      <td>5.474520</td>\n",
       "    </tr>\n",
       "    <tr>\n",
       "      <th>6</th>\n",
       "      <td>1996</td>\n",
       "      <td>5.912081</td>\n",
       "    </tr>\n",
       "    <tr>\n",
       "      <th>5</th>\n",
       "      <td>1995</td>\n",
       "      <td>5.893411</td>\n",
       "    </tr>\n",
       "    <tr>\n",
       "      <th>4</th>\n",
       "      <td>1994</td>\n",
       "      <td>6.186649</td>\n",
       "    </tr>\n",
       "    <tr>\n",
       "      <th>3</th>\n",
       "      <td>1993</td>\n",
       "      <td>6.924037</td>\n",
       "    </tr>\n",
       "    <tr>\n",
       "      <th>2</th>\n",
       "      <td>1992</td>\n",
       "      <td>7.464904</td>\n",
       "    </tr>\n",
       "    <tr>\n",
       "      <th>1</th>\n",
       "      <td>1991</td>\n",
       "      <td>7.142391</td>\n",
       "    </tr>\n",
       "    <tr>\n",
       "      <th>0</th>\n",
       "      <td>1990</td>\n",
       "      <td>6.093021</td>\n",
       "    </tr>\n",
       "  </tbody>\n",
       "</table>\n",
       "</div>"
      ],
      "text/plain": [
       "    Year      Rate\n",
       "26  2016  5.160680\n",
       "25  2015  5.401873\n",
       "24  2014  6.096365\n",
       "23  2013  7.211610\n",
       "22  2012  7.657544\n",
       "21  2011  8.523477\n",
       "20  2010  9.189580\n",
       "19  2009  8.883838\n",
       "18  2008  5.759990\n",
       "17  2007  4.896069\n",
       "16  2006  4.979263\n",
       "15  2005  5.438981\n",
       "14  2004  5.695817\n",
       "13  2003  6.027990\n",
       "12  2002  5.720915\n",
       "11  2001  4.985591\n",
       "10  2000  4.321123\n",
       "9   1999  4.873476\n",
       "8   1998  5.114221\n",
       "7   1997  5.474520\n",
       "6   1996  5.912081\n",
       "5   1995  5.893411\n",
       "4   1994  6.186649\n",
       "3   1993  6.924037\n",
       "2   1992  7.464904\n",
       "1   1991  7.142391\n",
       "0   1990  6.093021"
      ]
     },
     "execution_count": 15,
     "metadata": {},
     "output_type": "execute_result"
    }
   ],
   "source": [
    "#average unemployment rate per year\n",
    "year=data[['Year', 'Rate']]\n",
    "year_= year.groupby(['Year'],as_index=False).mean()\n",
    "year_=year_.sort_values(['Year'], ascending=False)\n",
    "year_"
   ]
  },
  {
   "cell_type": "code",
   "execution_count": 16,
   "metadata": {
    "execution": {
     "iopub.execute_input": "2021-04-11T20:55:49.545844Z",
     "iopub.status.busy": "2021-04-11T20:55:49.534986Z",
     "iopub.status.idle": "2021-04-11T20:55:49.800396Z",
     "shell.execute_reply": "2021-04-11T20:55:49.799796Z"
    },
    "executionInfo": {
     "elapsed": 11118,
     "status": "ok",
     "timestamp": 1616263908898,
     "user": {
      "displayName": "Oluwawemimo Vivian Folayan",
      "photoUrl": "https://lh3.googleusercontent.com/a-/AOh14GiKaDHWBHXOSHvsJB24UrPK8sfwmq5bms4ykn41=s64",
      "userId": "04898113565154863797"
     },
     "user_tz": -60
    },
    "id": "tPhA4Kx8jTPb",
    "outputId": "40559c0f-80b6-4dea-ec00-e368fd7baa15",
    "papermill": {
     "duration": 0.335829,
     "end_time": "2021-04-11T20:55:49.800549",
     "exception": false,
     "start_time": "2021-04-11T20:55:49.464720",
     "status": "completed"
    },
    "tags": []
   },
   "outputs": [
    {
     "data": {
      "image/png": "[encoded data removed]",
      "text/plain": [
       "<Figure size 864x360 with 1 Axes>"
      ]
     },
     "metadata": {},
     "output_type": "display_data"
    }
   ],
   "source": [
    "#check the trend\n",
    "fig, ax = plt.subplots(figsize=(12,5))\n",
    "sns.lineplot(x='Year', y='Rate', data=year_, ci=None, markers=True, ax=ax)\n",
    "ax.set_xticks(ticks=data['Year'].value_counts(ascending=True).index)\n",
    "plt.xticks(rotation='vertical')\n",
    "plt.show()"
   ]
  },
  {
   "cell_type": "code",
   "execution_count": 17,
   "metadata": {
    "execution": {
     "iopub.execute_input": "2021-04-11T20:55:49.898449Z",
     "iopub.status.busy": "2021-04-11T20:55:49.897396Z",
     "iopub.status.idle": "2021-04-11T20:55:50.223398Z",
     "shell.execute_reply": "2021-04-11T20:55:50.222660Z"
    },
    "executionInfo": {
     "elapsed": 11077,
     "status": "ok",
     "timestamp": 1616263908904,
     "user": {
      "displayName": "Oluwawemimo Vivian Folayan",
      "photoUrl": "https://lh3.googleusercontent.com/a-/AOh14GiKaDHWBHXOSHvsJB24UrPK8sfwmq5bms4ykn41=s64",
      "userId": "04898113565154863797"
     },
     "user_tz": -60
    },
    "id": "DKOYSKnvqCK2",
    "outputId": "204aeb8d-2a21-496f-8241-02acfb3b84f6",
    "papermill": {
     "duration": 0.386554,
     "end_time": "2021-04-11T20:55:50.223563",
     "exception": false,
     "start_time": "2021-04-11T20:55:49.837009",
     "status": "completed"
    },
    "tags": []
   },
   "outputs": [
    {
     "data": {
      "image/png": "[encoded data removed]",
      "text/plain": [
       "<Figure size 864x360 with 1 Axes>"
      ]
     },
     "metadata": {},
     "output_type": "display_data"
    }
   ],
   "source": [
    "#check for maxumium rate in each year\n",
    "year=data[['Year', 'Rate']]\n",
    "year_= year.groupby(['Year'],as_index=False).max()\n",
    "year_=year_.sort_values(['Year'], ascending=False)\n",
    "\n",
    "fig, ax = plt.subplots(figsize=(12,5))\n",
    "sns.lineplot(x='Year', y='Rate', data=year_, ci=None, markers=True, ax=ax)\n",
    "ax.set_xticks(ticks=data['Year'].value_counts(ascending=True).index)\n",
    "plt.xticks(rotation='vertical')\n",
    "plt.show()"
   ]
  },
  {
   "cell_type": "code",
   "execution_count": 18,
   "metadata": {
    "execution": {
     "iopub.execute_input": "2021-04-11T20:55:50.318122Z",
     "iopub.status.busy": "2021-04-11T20:55:50.317447Z",
     "iopub.status.idle": "2021-04-11T20:55:50.640189Z",
     "shell.execute_reply": "2021-04-11T20:55:50.639511Z"
    },
    "executionInfo": {
     "elapsed": 12082,
     "status": "ok",
     "timestamp": 1616263909957,
     "user": {
      "displayName": "Oluwawemimo Vivian Folayan",
      "photoUrl": "https://lh3.googleusercontent.com/a-/AOh14GiKaDHWBHXOSHvsJB24UrPK8sfwmq5bms4ykn41=s64",
      "userId": "04898113565154863797"
     },
     "user_tz": -60
    },
    "id": "aPDNCixDqCOf",
    "outputId": "82ec4ac9-90fc-4e25-ae1d-e280d4a6b4f7",
    "papermill": {
     "duration": 0.378336,
     "end_time": "2021-04-11T20:55:50.640372",
     "exception": false,
     "start_time": "2021-04-11T20:55:50.262036",
     "status": "completed"
    },
    "tags": []
   },
   "outputs": [
    {
     "data": {
      "image/png": "[encoded data removed]",
      "text/plain": [
       "<Figure size 864x360 with 1 Axes>"
      ]
     },
     "metadata": {},
     "output_type": "display_data"
    }
   ],
   "source": [
    "#check for minumium rate in each year\n",
    "year=data[['Year', 'Rate']]\n",
    "year_= year.groupby(['Year'],as_index=False).min()\n",
    "year_=year_.sort_values(['Year'], ascending=False)\n",
    "\n",
    "fig, ax = plt.subplots(figsize=(12,5))\n",
    "sns.lineplot(x='Year', y='Rate', data=year_, ci=None, markers=True, ax=ax)\n",
    "ax.set_xticks(ticks=data['Year'].value_counts(ascending=True).index)\n",
    "plt.xticks(rotation='vertical')\n",
    "plt.show()"
   ]
  },
  {
   "cell_type": "markdown",
   "metadata": {
    "id": "8kERD-Hee4_S",
    "papermill": {
     "duration": 0.038399,
     "end_time": "2021-04-11T20:55:50.719234",
     "exception": false,
     "start_time": "2021-04-11T20:55:50.680835",
     "status": "completed"
    },
    "tags": []
   },
   "source": [
    "# Data Exploration by Month"
   ]
  },
  {
   "cell_type": "code",
   "execution_count": 19,
   "metadata": {
    "execution": {
     "iopub.execute_input": "2021-04-11T20:55:50.839102Z",
     "iopub.status.busy": "2021-04-11T20:55:50.803459Z",
     "iopub.status.idle": "2021-04-11T20:55:51.140436Z",
     "shell.execute_reply": "2021-04-11T20:55:51.139762Z"
    },
    "executionInfo": {
     "elapsed": 12050,
     "status": "ok",
     "timestamp": 1616263909969,
     "user": {
      "displayName": "Oluwawemimo Vivian Folayan",
      "photoUrl": "https://lh3.googleusercontent.com/a-/AOh14GiKaDHWBHXOSHvsJB24UrPK8sfwmq5bms4ykn41=s64",
      "userId": "04898113565154863797"
     },
     "user_tz": -60
    },
    "id": "yJd2HpcckfWy",
    "outputId": "8cbd4a84-85a9-4eb9-db7f-dfccaf798046",
    "papermill": {
     "duration": 0.38292,
     "end_time": "2021-04-11T20:55:51.140591",
     "exception": false,
     "start_time": "2021-04-11T20:55:50.757671",
     "status": "completed"
    },
    "tags": []
   },
   "outputs": [
    {
     "data": {
      "image/png": "[encoded data removed]",
      "text/plain": [
       "<Figure size 720x360 with 1 Axes>"
      ]
     },
     "metadata": {},
     "output_type": "display_data"
    }
   ],
   "source": [
    "#check for maxumium rate in each month\n",
    "Month=data[['Month', 'Rate']]\n",
    "Month_= Month.groupby(['Month'],as_index=False).mean()\n",
    "Month_=Month_.sort_values(['Month'], ascending=False)\n",
    "\n",
    "plt.figure(figsize=(10,5))\n",
    "g = sns.barplot(x='Month', y='Rate', data=Month_)\n",
    "g.set_xticklabels(g.get_xticklabels(), rotation=90, ha=\"right\")\n",
    "plt.show()"
   ]
  },
  {
   "cell_type": "code",
   "execution_count": 20,
   "metadata": {
    "execution": {
     "iopub.execute_input": "2021-04-11T20:55:51.226648Z",
     "iopub.status.busy": "2021-04-11T20:55:51.225551Z",
     "iopub.status.idle": "2021-04-11T20:55:51.375070Z",
     "shell.execute_reply": "2021-04-11T20:55:51.374418Z"
    },
    "executionInfo": {
     "elapsed": 12007,
     "status": "ok",
     "timestamp": 1616263909976,
     "user": {
      "displayName": "Oluwawemimo Vivian Folayan",
      "photoUrl": "https://lh3.googleusercontent.com/a-/AOh14GiKaDHWBHXOSHvsJB24UrPK8sfwmq5bms4ykn41=s64",
      "userId": "04898113565154863797"
     },
     "user_tz": -60
    },
    "id": "5UVuPVtLkfau",
    "outputId": "78ee7762-6df3-4aa5-e016-036086b8fd92",
    "papermill": {
     "duration": 0.195481,
     "end_time": "2021-04-11T20:55:51.375231",
     "exception": false,
     "start_time": "2021-04-11T20:55:51.179750",
     "status": "completed"
    },
    "tags": []
   },
   "outputs": [
    {
     "data": {
      "text/html": [
       "<div>\n",
       "<style scoped>\n",
       "    .dataframe tbody tr th:only-of-type {\n",
       "        vertical-align: middle;\n",
       "    }\n",
       "\n",
       "    .dataframe tbody tr th {\n",
       "        vertical-align: top;\n",
       "    }\n",
       "\n",
       "    .dataframe thead th {\n",
       "        text-align: right;\n",
       "    }\n",
       "</style>\n",
       "<table border=\"1\" class=\"dataframe\">\n",
       "  <thead>\n",
       "    <tr style=\"text-align: right;\">\n",
       "      <th></th>\n",
       "      <th>County</th>\n",
       "      <th>Rate</th>\n",
       "    </tr>\n",
       "  </thead>\n",
       "  <tbody>\n",
       "    <tr>\n",
       "      <th>752</th>\n",
       "      <td>Imperial County</td>\n",
       "      <td>23.102749</td>\n",
       "    </tr>\n",
       "    <tr>\n",
       "      <th>1493</th>\n",
       "      <td>Starr County</td>\n",
       "      <td>20.932159</td>\n",
       "    </tr>\n",
       "    <tr>\n",
       "      <th>1271</th>\n",
       "      <td>Presidio County</td>\n",
       "      <td>20.335683</td>\n",
       "    </tr>\n",
       "    <tr>\n",
       "      <th>984</th>\n",
       "      <td>Maverick County</td>\n",
       "      <td>19.669604</td>\n",
       "    </tr>\n",
       "    <tr>\n",
       "      <th>940</th>\n",
       "      <td>Luna County</td>\n",
       "      <td>17.909877</td>\n",
       "    </tr>\n",
       "    <tr>\n",
       "      <th>...</th>\n",
       "      <td>...</td>\n",
       "      <td>...</td>\n",
       "    </tr>\n",
       "    <tr>\n",
       "      <th>477</th>\n",
       "      <td>Dundy County</td>\n",
       "      <td>2.509568</td>\n",
       "    </tr>\n",
       "    <tr>\n",
       "      <th>461</th>\n",
       "      <td>Divide County</td>\n",
       "      <td>2.412346</td>\n",
       "    </tr>\n",
       "    <tr>\n",
       "      <th>811</th>\n",
       "      <td>Kearney County</td>\n",
       "      <td>2.389506</td>\n",
       "    </tr>\n",
       "    <tr>\n",
       "      <th>295</th>\n",
       "      <td>Cherry County</td>\n",
       "      <td>2.385185</td>\n",
       "    </tr>\n",
       "    <tr>\n",
       "      <th>170</th>\n",
       "      <td>Bowman County</td>\n",
       "      <td>2.325617</td>\n",
       "    </tr>\n",
       "  </tbody>\n",
       "</table>\n",
       "<p>1752 rows × 2 columns</p>\n",
       "</div>"
      ],
      "text/plain": [
       "               County       Rate\n",
       "752   Imperial County  23.102749\n",
       "1493     Starr County  20.932159\n",
       "1271  Presidio County  20.335683\n",
       "984   Maverick County  19.669604\n",
       "940       Luna County  17.909877\n",
       "...               ...        ...\n",
       "477      Dundy County   2.509568\n",
       "461     Divide County   2.412346\n",
       "811    Kearney County   2.389506\n",
       "295     Cherry County   2.385185\n",
       "170     Bowman County   2.325617\n",
       "\n",
       "[1752 rows x 2 columns]"
      ]
     },
     "execution_count": 20,
     "metadata": {},
     "output_type": "execute_result"
    }
   ],
   "source": [
    "county=data[['County', 'Rate']]\n",
    "County_= county.groupby(['County'],as_index=False).mean()\n",
    "County_=County_.sort_values(['Rate'], ascending=False)\n",
    "County_"
   ]
  }
 ],
 "metadata": {
  "kernelspec": {
   "display_name": "Python 3",
   "language": "python",
   "name": "python3"
  },
  "language_info": {
   "codemirror_mode": {
    "name": "ipython",
    "version": 3
   },
   "file_extension": ".py",
   "mimetype": "text/x-python",
   "name": "python",
   "nbconvert_exporter": "python",
   "pygments_lexer": "ipython3",
   "version": "3.7.9"
  },
  "papermill": {
   "default_parameters": {},
   "duration": 21.406199,
   "end_time": "2021-04-11T20:55:52.129217",
   "environment_variables": {},
   "exception": null,
   "input_path": "__notebook__.ipynb",
   "output_path": "__notebook__.ipynb",
   "parameters": {},
   "start_time": "2021-04-11T20:55:30.723018",
   "version": "2.2.2"
  }
 },
 "nbformat": 4,
 "nbformat_minor": 4
}
