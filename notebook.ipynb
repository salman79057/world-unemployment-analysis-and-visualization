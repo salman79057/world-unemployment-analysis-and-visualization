{
 "metadata": {
  "language_info": {
   "codemirror_mode": {
    "name": "ipython",
    "version": 3
   },
   "file_extension": ".py",
   "mimetype": "text/x-python",
   "name": "python",
   "nbconvert_exporter": "python",
   "pygments_lexer": "ipython3",
   "version": "3.7.3"
  },
  "orig_nbformat": 2,
  "kernelspec": {
   "name": "python373jvsc74a57bd02b9cd5c3ec4eb793e30b3fe22fb3034f3d8c9722bad10f4cedbbd7faa7e7f261",
   "display_name": "Python 3.7.3 64-bit ('base': conda)"
  }
 },
 "nbformat": 4,
 "nbformat_minor": 2,
 "cells": [
  {
   "cell_type": "code",
   "execution_count": null,
   "metadata": {},
   "outputs": [],
   "source": [
    "import pandas as pd\n",
    "import matplotlib.pyplot as plt"
   ]
  },
  {
   "cell_type": "code",
   "execution_count": null,
   "metadata": {},
   "outputs": [],
   "source": [
    "df = pd.read_csv('datasets/unemployment.csv')"
   ]
  },
  {
   "cell_type": "code",
   "execution_count": 4,
   "metadata": {},
   "outputs": [
    {
     "output_type": "stream",
     "name": "stdout",
     "text": [
      "<class 'pandas.core.frame.DataFrame'>\nRangeIndex: 219 entries, 0 to 218\nData columns (total 7 columns):\n #   Column        Non-Null Count  Dtype  \n---  ------        --------------  -----  \n 0   Country Name  219 non-null    object \n 1   Country Code  219 non-null    object \n 2   2010          219 non-null    float64\n 3   2011          219 non-null    float64\n 4   2012          219 non-null    float64\n 5   2013          219 non-null    float64\n 6   2014          219 non-null    float64\ndtypes: float64(5), object(2)\nmemory usage: 12.1+ KB\n"
     ]
    }
   ],
   "source": [
    "df.info()"
   ]
  },
  {
   "cell_type": "code",
   "execution_count": 5,
   "metadata": {},
   "outputs": [
    {
     "output_type": "execute_result",
     "data": {
      "text/plain": [
       "           Country Name Country Code       2010       2011       2012  \\\n",
       "0           Afghanistan          AFG  20.600000  20.900000  19.700001   \n",
       "1                Angola          AGO  10.800000  10.700000  10.700000   \n",
       "2               Albania          ALB  25.799999  27.000000  28.299999   \n",
       "3            Arab World          ARB  25.022214  28.117516  29.113212   \n",
       "4  United Arab Emirates          ARE   9.800000   9.800000   9.800000   \n",
       "\n",
       "        2013       2014  \n",
       "0  21.100000  20.799999  \n",
       "1  10.600000  10.500000  \n",
       "2  28.700001  29.200001  \n",
       "3  29.335306  29.704569  \n",
       "4   9.900000  10.000000  "
      ],
      "text/html": "<div>\n<style scoped>\n    .dataframe tbody tr th:only-of-type {\n        vertical-align: middle;\n    }\n\n    .dataframe tbody tr th {\n        vertical-align: top;\n    }\n\n    .dataframe thead th {\n        text-align: right;\n    }\n</style>\n<table border=\"1\" class=\"dataframe\">\n  <thead>\n    <tr style=\"text-align: right;\">\n      <th></th>\n      <th>Country Name</th>\n      <th>Country Code</th>\n      <th>2010</th>\n      <th>2011</th>\n      <th>2012</th>\n      <th>2013</th>\n      <th>2014</th>\n    </tr>\n  </thead>\n  <tbody>\n    <tr>\n      <th>0</th>\n      <td>Afghanistan</td>\n      <td>AFG</td>\n      <td>20.600000</td>\n      <td>20.900000</td>\n      <td>19.700001</td>\n      <td>21.100000</td>\n      <td>20.799999</td>\n    </tr>\n    <tr>\n      <th>1</th>\n      <td>Angola</td>\n      <td>AGO</td>\n      <td>10.800000</td>\n      <td>10.700000</td>\n      <td>10.700000</td>\n      <td>10.600000</td>\n      <td>10.500000</td>\n    </tr>\n    <tr>\n      <th>2</th>\n      <td>Albania</td>\n      <td>ALB</td>\n      <td>25.799999</td>\n      <td>27.000000</td>\n      <td>28.299999</td>\n      <td>28.700001</td>\n      <td>29.200001</td>\n    </tr>\n    <tr>\n      <th>3</th>\n      <td>Arab World</td>\n      <td>ARB</td>\n      <td>25.022214</td>\n      <td>28.117516</td>\n      <td>29.113212</td>\n      <td>29.335306</td>\n      <td>29.704569</td>\n    </tr>\n    <tr>\n      <th>4</th>\n      <td>United Arab Emirates</td>\n      <td>ARE</td>\n      <td>9.800000</td>\n      <td>9.800000</td>\n      <td>9.800000</td>\n      <td>9.900000</td>\n      <td>10.000000</td>\n    </tr>\n  </tbody>\n</table>\n</div>"
     },
     "metadata": {},
     "execution_count": 5
    }
   ],
   "source": [
    "df.head()"
   ]
  },
  {
   "cell_type": "code",
   "execution_count": 6,
   "metadata": {},
   "outputs": [
    {
     "output_type": "execute_result",
     "data": {
      "text/plain": [
       "                Country Code       2010       2011       2012       2013  \\\n",
       "0           Afghanistan  AFG  20.600000  20.900000  19.700001  21.100000   \n",
       "1                Angola  AGO  10.800000  10.700000  10.700000  10.600000   \n",
       "2               Albania  ALB  25.799999  27.000000  28.299999  28.700001   \n",
       "3            Arab World  ARB  25.022214  28.117516  29.113212  29.335306   \n",
       "4  United Arab Emirates  ARE   9.800000   9.800000   9.800000   9.900000   \n",
       "\n",
       "        2014  \n",
       "0  20.799999  \n",
       "1  10.500000  \n",
       "2  29.200001  \n",
       "3  29.704569  \n",
       "4  10.000000  "
      ],
      "text/html": "<div>\n<style scoped>\n    .dataframe tbody tr th:only-of-type {\n        vertical-align: middle;\n    }\n\n    .dataframe tbody tr th {\n        vertical-align: top;\n    }\n\n    .dataframe thead th {\n        text-align: right;\n    }\n</style>\n<table border=\"1\" class=\"dataframe\">\n  <thead>\n    <tr style=\"text-align: right;\">\n      <th></th>\n      <th>Country</th>\n      <th>Code</th>\n      <th>2010</th>\n      <th>2011</th>\n      <th>2012</th>\n      <th>2013</th>\n      <th>2014</th>\n    </tr>\n  </thead>\n  <tbody>\n    <tr>\n      <th>0</th>\n      <td>Afghanistan</td>\n      <td>AFG</td>\n      <td>20.600000</td>\n      <td>20.900000</td>\n      <td>19.700001</td>\n      <td>21.100000</td>\n      <td>20.799999</td>\n    </tr>\n    <tr>\n      <th>1</th>\n      <td>Angola</td>\n      <td>AGO</td>\n      <td>10.800000</td>\n      <td>10.700000</td>\n      <td>10.700000</td>\n      <td>10.600000</td>\n      <td>10.500000</td>\n    </tr>\n    <tr>\n      <th>2</th>\n      <td>Albania</td>\n      <td>ALB</td>\n      <td>25.799999</td>\n      <td>27.000000</td>\n      <td>28.299999</td>\n      <td>28.700001</td>\n      <td>29.200001</td>\n    </tr>\n    <tr>\n      <th>3</th>\n      <td>Arab World</td>\n      <td>ARB</td>\n      <td>25.022214</td>\n      <td>28.117516</td>\n      <td>29.113212</td>\n      <td>29.335306</td>\n      <td>29.704569</td>\n    </tr>\n    <tr>\n      <th>4</th>\n      <td>United Arab Emirates</td>\n      <td>ARE</td>\n      <td>9.800000</td>\n      <td>9.800000</td>\n      <td>9.800000</td>\n      <td>9.900000</td>\n      <td>10.000000</td>\n    </tr>\n  </tbody>\n</table>\n</div>"
     },
     "metadata": {},
     "execution_count": 6
    }
   ],
   "source": [
    "df.rename(columns= {'Country Name' : 'Country', 'Country Code': 'Code'} , inplace=True)\n",
    "df.head()"
   ]
  },
  {
   "cell_type": "code",
   "execution_count": 7,
   "metadata": {},
   "outputs": [
    {
     "output_type": "execute_result",
     "data": {
      "text/plain": [
       "                     Code       2010       2011       2012       2013  \\\n",
       "Country                                                                 \n",
       "Afghanistan           AFG  20.600000  20.900000  19.700001  21.100000   \n",
       "Angola                AGO  10.800000  10.700000  10.700000  10.600000   \n",
       "Albania               ALB  25.799999  27.000000  28.299999  28.700001   \n",
       "Arab World            ARB  25.022214  28.117516  29.113212  29.335306   \n",
       "United Arab Emirates  ARE   9.800000   9.800000   9.800000   9.900000   \n",
       "...                   ...        ...        ...        ...        ...   \n",
       "Yemen, Rep.           YEM  30.299999  30.000000  30.200001  30.200001   \n",
       "South Africa          ZAF  50.799999  50.099998  52.200001  51.400002   \n",
       "Congo, Dem. Rep.      COD  12.300000  12.300000  12.300000  12.200000   \n",
       "Zambia                ZMB  26.400000  26.600000  26.600000  25.500000   \n",
       "Zimbabwe              ZWE   9.600000   8.300000   8.300000   8.900000   \n",
       "\n",
       "                           2014  \n",
       "Country                          \n",
       "Afghanistan           20.799999  \n",
       "Angola                10.500000  \n",
       "Albania               29.200001  \n",
       "Arab World            29.704569  \n",
       "United Arab Emirates  10.000000  \n",
       "...                         ...  \n",
       "Yemen, Rep.           29.900000  \n",
       "South Africa          52.599998  \n",
       "Congo, Dem. Rep.      11.900000  \n",
       "Zambia                25.100000  \n",
       "Zimbabwe               9.400000  \n",
       "\n",
       "[219 rows x 6 columns]"
      ],
      "text/html": "<div>\n<style scoped>\n    .dataframe tbody tr th:only-of-type {\n        vertical-align: middle;\n    }\n\n    .dataframe tbody tr th {\n        vertical-align: top;\n    }\n\n    .dataframe thead th {\n        text-align: right;\n    }\n</style>\n<table border=\"1\" class=\"dataframe\">\n  <thead>\n    <tr style=\"text-align: right;\">\n      <th></th>\n      <th>Code</th>\n      <th>2010</th>\n      <th>2011</th>\n      <th>2012</th>\n      <th>2013</th>\n      <th>2014</th>\n    </tr>\n    <tr>\n      <th>Country</th>\n      <th></th>\n      <th></th>\n      <th></th>\n      <th></th>\n      <th></th>\n      <th></th>\n    </tr>\n  </thead>\n  <tbody>\n    <tr>\n      <th>Afghanistan</th>\n      <td>AFG</td>\n      <td>20.600000</td>\n      <td>20.900000</td>\n      <td>19.700001</td>\n      <td>21.100000</td>\n      <td>20.799999</td>\n    </tr>\n    <tr>\n      <th>Angola</th>\n      <td>AGO</td>\n      <td>10.800000</td>\n      <td>10.700000</td>\n      <td>10.700000</td>\n      <td>10.600000</td>\n      <td>10.500000</td>\n    </tr>\n    <tr>\n      <th>Albania</th>\n      <td>ALB</td>\n      <td>25.799999</td>\n      <td>27.000000</td>\n      <td>28.299999</td>\n      <td>28.700001</td>\n      <td>29.200001</td>\n    </tr>\n    <tr>\n      <th>Arab World</th>\n      <td>ARB</td>\n      <td>25.022214</td>\n      <td>28.117516</td>\n      <td>29.113212</td>\n      <td>29.335306</td>\n      <td>29.704569</td>\n    </tr>\n    <tr>\n      <th>United Arab Emirates</th>\n      <td>ARE</td>\n      <td>9.800000</td>\n      <td>9.800000</td>\n      <td>9.800000</td>\n      <td>9.900000</td>\n      <td>10.000000</td>\n    </tr>\n    <tr>\n      <th>...</th>\n      <td>...</td>\n      <td>...</td>\n      <td>...</td>\n      <td>...</td>\n      <td>...</td>\n      <td>...</td>\n    </tr>\n    <tr>\n      <th>Yemen, Rep.</th>\n      <td>YEM</td>\n      <td>30.299999</td>\n      <td>30.000000</td>\n      <td>30.200001</td>\n      <td>30.200001</td>\n      <td>29.900000</td>\n    </tr>\n    <tr>\n      <th>South Africa</th>\n      <td>ZAF</td>\n      <td>50.799999</td>\n      <td>50.099998</td>\n      <td>52.200001</td>\n      <td>51.400002</td>\n      <td>52.599998</td>\n    </tr>\n    <tr>\n      <th>Congo, Dem. Rep.</th>\n      <td>COD</td>\n      <td>12.300000</td>\n      <td>12.300000</td>\n      <td>12.300000</td>\n      <td>12.200000</td>\n      <td>11.900000</td>\n    </tr>\n    <tr>\n      <th>Zambia</th>\n      <td>ZMB</td>\n      <td>26.400000</td>\n      <td>26.600000</td>\n      <td>26.600000</td>\n      <td>25.500000</td>\n      <td>25.100000</td>\n    </tr>\n    <tr>\n      <th>Zimbabwe</th>\n      <td>ZWE</td>\n      <td>9.600000</td>\n      <td>8.300000</td>\n      <td>8.300000</td>\n      <td>8.900000</td>\n      <td>9.400000</td>\n    </tr>\n  </tbody>\n</table>\n<p>219 rows × 6 columns</p>\n</div>"
     },
     "metadata": {},
     "execution_count": 7
    }
   ],
   "source": [
    "df.set_index('Country')"
   ]
  },
  {
   "cell_type": "code",
   "execution_count": null,
   "metadata": {},
   "outputs": [],
   "source": [
    "df_apps.groupby('Category').count().sort_values('App')['App'][::-1].plot(kind='bar', figsize = (20, 7))"
   ]
  },
  {
   "cell_type": "code",
   "execution_count": null,
   "metadata": {},
   "outputs": [],
   "source": [
    "df_apps['Type'].fillna('Free', inplace = True)"
   ]
  },
  {
   "cell_type": "code",
   "execution_count": null,
   "metadata": {},
   "outputs": [],
   "source": [
    "df_apps.groupby('Type').count()['App'].plot(kind=\"bar\")"
   ]
  },
  {
   "cell_type": "code",
   "execution_count": null,
   "metadata": {},
   "outputs": [],
   "source": []
  }
 ]
}